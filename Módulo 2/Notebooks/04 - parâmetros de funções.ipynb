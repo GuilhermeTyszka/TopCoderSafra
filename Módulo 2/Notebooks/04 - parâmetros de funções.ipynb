{
 "cells": [
  {
   "cell_type": "markdown",
   "metadata": {},
   "source": [
    "# Parâmetros de funções\n",
    "\n",
    "Quando estudamos funções, aprendemos que elas podem receber dados (parâmetros) e podem fornecer uma resposta (retorno). Porém, o número de parâmetros era fixo para cada função: um dado para cada parâmetro que declaramos na definição da função. Da mesma forma, a função poderia retornar exatamente um resultado.\n",
    "\n",
    "Em alguns casos, mais flexibilidade seria útil. Utilizando tuplas e dicionários conseguimos essa flexibilidade.\n",
    "\n",
    "## Funções com retorno múltiplo\n",
    "Vejamos um caso simples: uma função que retorna os valores máximo e mínimo de uma coleção.\n",
    "Você pode retornar os valores separados por vírgula. \n",
    "Vamos imprimir o resultado e verificar o que acontece."
   ]
  },
  {
   "cell_type": "code",
   "execution_count": null,
   "metadata": {},
   "outputs": [],
   "source": [
    "def max_min(colecao):\n",
    "\tmaior = max(colecao)\n",
    "\tmenor = min(colecao)\n",
    "\treturn maior, menor\n",
    "\n",
    "numeros = [3, 1, 4, 1, 5, 9, 2]\n",
    "\n",
    "resposta = max_min(numeros)\n",
    "print(resposta)\n",
    "print(type(resposta)) # mostra o tipo da variável resposta"
   ]
  },
  {
   "cell_type": "markdown",
   "metadata": {},
   "source": [
    "Surpresa! Ele tratou o retorno como uma tupla! Quando utilizamos valores separados por vírgula em Python, os valores são agrupados em uma tupla, mesmo que não estejamos utilizando parênteses. Essa informação é relevante porque podemos separar a tupla em varias variáveis usando a mesma sintaxe:"
   ]
  },
  {
   "cell_type": "code",
   "execution_count": null,
   "metadata": {},
   "outputs": [],
   "source": [
    "def max_min(colecao):\n",
    "\tmaior = max(colecao)\n",
    "\tmenor = min(colecao)\n",
    "\treturn maior, menor\n",
    "\n",
    "numeros = [3, 1, 4, 1, 5, 9, 2]\n",
    "\n",
    "maior_num, menor_num = max_min(numeros)\n",
    "print(maior_num)\n",
    "print(menor_num)"
   ]
  },
  {
   "cell_type": "markdown",
   "metadata": {},
   "source": [
    "No exemplo acima é mais perceptível a sensação de que a função retornou 2 valores e o programa recebeu esses 2 valores individualmente. Por dentro, tupla. Por fora, retorno múltiplo."
   ]
  },
  {
   "cell_type": "markdown",
   "metadata": {},
   "source": [
    "## Parâmetros com valores padrão\n",
    "\n",
    "Uma primeira forma de trabalhar com a ideia de parâmetros opcionais é atribuir valores padrão para nossos parâmetros. Quando fazemos isso, quando a função for chamada, o parâmetro pode **ou** não ser passado. Caso ele não seja passado, é adotado o valor padrão.\n",
    "\n",
    "Devemos primeiro colocar os parâmetros \"comuns\" (conhecidos como _argumentos posicionais_) para depois colocar os argumentos com valor padrão. Imagine, por exemplo, uma função que padroniza _strings_ jogando todo seu conteúdo para upper ou lower. Podemos implementá-la da seguinte maneira:"
   ]
  },
  {
   "cell_type": "code",
   "execution_count": null,
   "metadata": {},
   "outputs": [],
   "source": [
    "def padroniza_string(texto, lower=True):\n",
    "    if lower:\n",
    "        return texto.lower()\n",
    "    else:\n",
    "        return texto.upper()\n",
    "\n",
    "print(padroniza_string('Sem passar o SEGUNDO argumento'))\n",
    "print(padroniza_string('Passando SEGUNDO argumento True', lower=True))\n",
    "print(padroniza_string('Passando SEGUNDO argumento False', lower=False))"
   ]
  },
  {
   "cell_type": "markdown",
   "metadata": {},
   "source": [
    "## Funções com quantidade variável de parâmetros\n",
    "Talvez você já tenha notado que o _print_ é uma função. Se não notou, esse é um bom momento para pensar a respeito. Nós sempre usamos com parênteses, nós passamos informações dentro dos parênteses (os dados a serem impressos) e ele faz um monte de coisa automaticamente: converte todos os dados passados para _string_, contatena todas as _strings_ com um espaço entre elas e as escreve na tela.\n",
    "\n",
    "Algo que o _print_ tem que as nossas funções não tinham é a capacidade de receber uma quantidade variável de parâmetros. Nós podemos passar 0 dados (e, neste caso, ele apenas pulará uma linha), 1 dado, 2 dados, 3 dados... Quantos dados quisermos, separados por vírgula, e ele funcionará para todos esses casos. Se temos que declarar todos os parâmetros, como fazer para que múltiplos dados possam ser passados?\n",
    "\n",
    "### Agrupando parâmetros\n",
    "A solução é utilizar o operador **\\*** - que, neste caso, não será uma multiplicação.  Ao colocarmos o **\\*** ao lado do nome de um parâmetro na definição da função, estamos dizendo que aquele argumento será uma coleção. Mais especificamente, uma tupla. Porém, o usuário não irá passar uma tupla. Ele irá passar quantos argumentos ele quiser, e o Python automaticamente criará uma tupla com eles. \n",
    "\n",
    "O exemplo abaixo cria uma função de somatório que pode receber uma quantidade arbitrária de números."
   ]
  },
  {
   "cell_type": "code",
   "execution_count": null,
   "metadata": {},
   "outputs": [],
   "source": [
    "def somatorio(*numeros):\n",
    "\t# remova o símbolo de comentário das linhas abaixo para entender melhor o parâmetro\n",
    "\t# print (numeros)\n",
    "\t# print(type(numeros))\n",
    "\tsoma = 0\n",
    "\tfor n in numeros:\n",
    "\t\tsoma = soma + n\n",
    "\treturn soma\n",
    "\n",
    "s1 = somatorio(5, 3, 1)\n",
    "s2 = somatorio(2, 4, 6, 8, 10)\n",
    "s3 = somatorio(1, 2, 3, 4, 5, 6, 7, 8, 9, 10)\n",
    "print(s1, s2, s3)"
   ]
  },
  {
   "cell_type": "markdown",
   "metadata": {},
   "source": [
    "### Expandindo uma coleção\n",
    "O exemplo acima funciona muito bem quando o usuário da função possui vários dados avulsos, pois ele os agrupa em uma coleção. Mas o que acontece quando os dados já estão agrupados?"
   ]
  },
  {
   "cell_type": "code",
   "execution_count": null,
   "metadata": {},
   "outputs": [],
   "source": [
    "def somatorio(*numeros):\n",
    "\tprint (numeros)\n",
    "\tprint(type(numeros))\n",
    "\tsoma = 0\n",
    "\tfor n in numeros:\n",
    "\t\tsoma = soma + n\n",
    "\treturn soma\n",
    "\n",
    "lista = [1, 2, 3, 4, 5]\n",
    "s = somatorio(lista)\n",
    "print(s)"
   ]
  },
  {
   "cell_type": "markdown",
   "metadata": {},
   "source": [
    "Note que o programa dará erro, pois como os _print_ dentro da função ilustram, foi criada uma tupla, e na primeira posição da tupla foi armazenada a lista. Isso não funciona com a lógica que projetamos.\n",
    "\n",
    "Para casos assim, utilizaremos o operador **\\*** na chamada da função também. Na definição, o operador **\\*** indica que devemos agrupar itens avulsos em uma coleção. Na chamada, ele indica que uma coleção deve ser expandida em itens avulsos."
   ]
  },
  {
   "cell_type": "code",
   "execution_count": null,
   "metadata": {},
   "outputs": [],
   "source": [
    "def somatorio(*numeros):\n",
    "\tprint (numeros)\n",
    "\tprint(type(numeros))\n",
    "\tsoma = 0\n",
    "\tfor n in numeros:\n",
    "\t\tsoma = soma + n\n",
    "\treturn soma\n",
    "\n",
    "lista = [1, 2, 3, 4, 5]\n",
    "s = somatorio(*lista)\n",
    "print(s)"
   ]
  },
  {
   "cell_type": "markdown",
   "metadata": {},
   "source": [
    "No programa acima, a lista é expandida em 5 valores avulsos, e em seguida a função agrupa os 5 itens em uma tupla chamada \"numeros\". "
   ]
  },
  {
   "cell_type": "markdown",
   "metadata": {},
   "source": [
    "## Parâmetros opcionais\n",
    "Outra possibilidade são funções com parâmetros opcionais. Note que isso é diferente de termos quantidade variável de parâmetros. \n",
    "\n",
    "No caso da quantidade variável, normalmente são diversos parâmetros com a mesma utilidade (números a serem somados, valores a serem exibidos etc). \n",
    "\n",
    "Já os parâmetros opcionais são informações distintas que podem ou não ser passadas para a função. Como exemplo podemos citar o _csv.reader_ e o _csv.writer_ vistos anteriormente. Os parâmetros que passamos pelo nome (_delimiter_ e _lineterminator_) são opcionais: se você omiti-los, a função usará valores padrão.\n",
    "\n",
    "Já estudamos uma forma de parâmetros opcionais utilizando valores padrão. Mas para funções com uma **grande** quantidade de parâmetros opcionais, existe outra forma utilizando dicionários, apelidada como ```**kwargs```.\n",
    "\n",
    "### Criando **kwargs\n",
    "Para criar parâmetros opcionais, usaremos **\\*\\***, e os parâmetros passados serão agrupados em um dicionário: o nome do parâmetro será uma chave, e o valor será... O valor.\n",
    "\n",
    "O exemplo abaixo cadastra usuários em uma base de dado. Um usuário pode fornecer seu nome, seu CPF ou ambos.\n"
   ]
  },
  {
   "cell_type": "code",
   "execution_count": null,
   "metadata": {},
   "outputs": [],
   "source": [
    "def cadastro(**usuario):\n",
    "\tif not ('nome' in usuario) and not ('cpf') in usuario:\n",
    "\t\tprint('Nenhum dado encontrado!')\n",
    "\telse:\n",
    "\t\tarquivo = open('usuarios.txt', 'a')\n",
    "\t\tif 'nome' in usuario:\n",
    "\t\t\tarquivo.write(usuario['nome'] + '\\n')\n",
    "\t\tif 'cpf' in usuario:\n",
    "\t\t\tarquivo.write(str(usuario['cpf']) + '\\n')\n",
    "\t\tarquivo.write('-----\\n')\n",
    "\t\tarquivo.close()\n",
    "\t\tprint('Cadastro realizado com sucesso!')\n",
    "\n",
    "cadastro(nome = 'João', cpf = 123456789) # tem ambos\n",
    "cadastro(nome = 'José') # tem apenas nome\n",
    "cadastro(cpf = 987654321) # tem apenas cpf\n",
    "cadastro(rg = 192837465) # não tem nome nem cpf"
   ]
  },
  {
   "cell_type": "markdown",
   "metadata": {},
   "source": [
    "### Expandindo um dicionário\n",
    "Analogamente ao caso dos parâmetros múltiplos, é possível que o usuário da função já tenha os dados organizados em um dicionário. Neste caso, basta usar **\\*\\*** na chamada da função para expandir o dicionário em vários parâmetros opcionais."
   ]
  },
  {
   "cell_type": "code",
   "execution_count": null,
   "metadata": {},
   "outputs": [],
   "source": [
    "def cadastro(**usuario):\n",
    "\tif not ('nome' in usuario) and not ('cpf') in usuario:\n",
    "\t\tprint('Nenhum dado encontrado!')\n",
    "\telse:\n",
    "\t\tarquivo = open('usuarios.txt', 'a')\n",
    "\t\tif 'nome' in usuario:\n",
    "\t\t\tarquivo.write(usuario['nome'] + '\\n')\n",
    "\t\tif 'cpf' in usuario:\n",
    "\t\t\tarquivo.write(str(usuario['cpf']) + '\\n')\n",
    "\t\tarquivo.write('-----\\n')\n",
    "\t\tarquivo.close()\n",
    "\t\tprint('Cadastro realizado com sucesso!')\n",
    "\n",
    "maria = {'nome':'Maria', 'cpf':2468135790}\n",
    "cadastro(**maria)"
   ]
  },
  {
   "cell_type": "markdown",
   "metadata": {},
   "source": [
    "## Exercícios\n",
    "\n",
    "Faça uma função que recebe uma quantidade arbitrária de variáveis de qualquer tipo e retorna uma string contendo todas as suas representações separadas por espaço."
   ]
  },
  {
   "cell_type": "code",
   "execution_count": 4,
   "metadata": {},
   "outputs": [
    {
     "name": "stdout",
     "output_type": "stream",
     "text": [
      "1 2 ABC False 23\n"
     ]
    }
   ],
   "source": [
    "def imprimir(*args):\n",
    "    print(*args)\n",
    "\n",
    "imprimir(*[1, 2, 'ABC', False, '23'])"
   ]
  },
  {
   "cell_type": "markdown",
   "metadata": {},
   "source": [
    "Modifique a função anterior para incluir um parâmetro opcional indicando o caractere de separação entre as variáveis. Seu valor padrão será 1 espaço em branco. "
   ]
  },
  {
   "cell_type": "code",
   "execution_count": 7,
   "metadata": {},
   "outputs": [
    {
     "name": "stdout",
     "output_type": "stream",
     "text": [
      "1-2-ABC-False-23\n"
     ]
    }
   ],
   "source": [
    "def imprimir(*args, separador = ' '):\n",
    "    print(*args, sep = separador)\n",
    "\n",
    "imprimir(*[1, 2, 'ABC', False, '23'], separador = '-')"
   ]
  },
  {
   "cell_type": "markdown",
   "metadata": {},
   "source": [
    "Faça sua própria função \"sorted\", que recebe uma coleção de elementos e retorna uma nova lista contendo os elementos ordenados. Ela deverá receber:\n",
    "\n",
    "* uma lista ou uma tupla (obrigatório).\n",
    "* um booleano indicando se deve ser ordem inversa ou não (opcional, com valor padrão).\n",
    "* uma função (sim, isso pode!) que será usada para comparar os valores da lista entre eles (opcional, com valor padrão null) - caso seja null, utilize os operadores \">\" ou \"<\" para fazer as comparações.\n",
    "\n",
    "Faça tratamento de exceção da maneira que julgar melhor para lidar com a possibilidade da lista de entrada conter elementos que não podem ser comparados entre si (como str e int, por exemplo).\n"
   ]
  },
  {
   "cell_type": "code",
   "execution_count": 84,
   "metadata": {},
   "outputs": [
    {
     "name": "stdout",
     "output_type": "stream",
     "text": [
      "Os valores 6 e a não podem ser comparados!\n",
      "Os valores a e 2 não podem ser comparados!\n",
      "Os valores 6 e a não podem ser comparados!\n",
      "Os valores a e 1 não podem ser comparados!\n",
      "Os valores 6 e a não podem ser comparados!\n",
      "[4, 5, 6, 'a', 1, 2]\n"
     ]
    }
   ],
   "source": [
    "def hand_sorted(data, reverse = True, comparison = None):\n",
    "    def std_comparison(a, b):\n",
    "        return (a > b) if reverse else (a <= b)\n",
    "\n",
    "    if type(data) == tuple:\n",
    "        data = list(data)\n",
    "\n",
    "    if comparison == None:\n",
    "        comparison = std_comparison\n",
    "\n",
    "    for j in range(len(data) - 1):\n",
    "        finished_earlier = True    \n",
    "        for i in range(len(data) - j - 1):\n",
    "            try:\n",
    "                if comparison(data[i], data[i + 1]):\n",
    "                    finished_earlier = False\n",
    "                    data[i], data[i+1] = data[i+1], data[i]\n",
    "            except:\n",
    "                print(f'Os valores {data[i]} e {data[i+1]} não podem ser comparados!')\n",
    "        if finished_earlier:\n",
    "            return data\n",
    "    return data\n",
    "\n",
    "print(hand_sorted([6, 5, 4, 'a', 2, 1]))"
   ]
  },
  {
   "cell_type": "markdown",
   "metadata": {},
   "source": [
    "Faça um programa com um menu que permita cadastrar novos usuários, buscar usuários já existentes, modificar um usuário existente e visualizar todos os usuários.\n",
    "\n",
    "Cada usuário deve ter, obrigatoriamente:\n",
    "\n",
    "* Nome\n",
    "* CPF (deve ser **único**)\n",
    "* e-mail (deve ser **único**)\n",
    "\n",
    "Opcionalmente, usuários podem ter:\n",
    "\n",
    "* Data de nascimento\n",
    "* Profissão\n",
    "* Escolaridade (a ser escolhida de uma lista: infantil, fundamental, médio, superior, pós)\n",
    "\n",
    "Para a busca, podemos passar um ou mais dos dados (ex: apenas nome, ou data de nascimento + profissão), e teremos um parâmetro opcional indicando se os resultados mostrarão usuários que bateram com pelo menos 1 dos parâmetros buscados (ex: nome igual, mas CPF diferente) ou apenas que bateram com todas as informações passadas.\n",
    "\n",
    "Estruture seu programa para utilizar funções com parâmetros opcionais.\n",
    "\n",
    "Desafio 1: faça toda a comunicação de erros entre funções e diferentes partes do programa via **exceções**.\n",
    "\n",
    "Desafio 2: adicione **persistência** ao seu programa em formato .json\n",
    "\n",
    "Desafio 3: **valide CPF, e-mail e data de nascimento** (apenas CPFs válidos, e-mail apenas com caracteres válidos, e 1 única arroba que contenha caracteres antes e depois, data de nascimento obrigatoriamente no formato aaaa-mm-dd e que não aceite dias inválidos, como 30 de fevereiro).\n",
    "\n",
    "Desafio 4: acrescente ao desafio 3 a verificação para 29/fev e ano bissexto."
   ]
  },
  {
   "cell_type": "code",
   "execution_count": 122,
   "metadata": {},
   "outputs": [
    {
     "name": "stdout",
     "output_type": "stream",
     "text": [
      "Digite a opção desejada:\n",
      "1. Visualizar base de dados.\n",
      "2. Cadastrar usuário.\n",
      "3. Buscar usuário.\n",
      "4. Modificar usuário.\n",
      "0. Encerrar.\n",
      "Digite a opção desejada:\n",
      "1. Visualizar base de dados.\n",
      "2. Cadastrar usuário.\n",
      "3. Buscar usuário.\n",
      "4. Modificar usuário.\n",
      "0. Encerrar.\n",
      "{'CPF': '08194253977', 'email': 'guilherme@hotmail.com', 'nasc': '1994-09-26', 'profissao': 'Professor', 'escolaridade': 'Pós'}\n",
      "{'CPF': '19425397', 'email': 'guilhermetyszka@hotmail.com', 'nasc': '1994-09-27', 'profissao': 'Professor', 'escolaridade': 'Pós'}\n",
      "{'CPF': '2425397', 'email': 'guilhermetyszka@hotmail.com', 'nasc': '1994-09-26', 'profissao': 'Estudante', 'escolaridade': 'Pós'}\n",
      "{'CPF': '2358', 'nome': 'Alice Max Tyszka', 'email': 'alicetyszka@hotmail.com', 'nasc': '1987-03-25', 'profissao': 'Lar', 'escolaridade': 'Pós'}\n",
      "{'CPF': '08823541913', 'nome': 'Gabriela Mendes Zorzi', 'email': 'gabizorzi@yahoo.com.br', 'nasc': '1994-03-27', 'profissao': 'Cientista de dados', 'escolaridade': 'Superior completo'}\n",
      "Digite a opção desejada:\n",
      "1. Visualizar base de dados.\n",
      "2. Cadastrar usuário.\n",
      "3. Buscar usuário.\n",
      "4. Modificar usuário.\n",
      "0. Encerrar.\n",
      "Programa encerrado!\n"
     ]
    }
   ],
   "source": [
    "import json\n",
    "\n",
    "def checa_cpf(base, cpf):\n",
    "    for i in base:\n",
    "        if i['CPF'] == cpf:\n",
    "            return True\n",
    "    return False\n",
    "\n",
    "def checa_email(base, email):\n",
    "    for i in base:\n",
    "        if i['email'] == email:\n",
    "            return True\n",
    "    return False\n",
    "\n",
    "def checa_inf_obrigatorias(**dados):\n",
    "    if not ('CPF' in dados):\n",
    "        print('CPF não informado!')\n",
    "        return False\n",
    "    elif not ('email' in dados):\n",
    "        print('Email não informado!')\n",
    "        return False\n",
    "    else:\n",
    "        return True\n",
    "\n",
    "def cadastra_usuario(**dados):\n",
    "    if checa_inf_obrigatorias(**dados):\n",
    "        with open('BaseDados.json', 'r+') as arquivo:\n",
    "            base = json.loads(arquivo.read())\n",
    "            if checa_cpf(base, dados['CPF']):\n",
    "                raise Exception('CPF já cadastrado')\n",
    "            if checa_email(base, dados['email']):\n",
    "                raise Exception('Email já cadastrado')\n",
    "        cadastro = {}\n",
    "        cadastro['CPF'] = dados['CPF']\n",
    "        if 'nome' in dados: cadastro['nome'] = dados['nome']\n",
    "        cadastro['email'] = dados['email']\n",
    "        if 'nasc' in dados: cadastro['nasc'] = dados['nasc']\n",
    "        if 'profissao' in dados: cadastro['profissao'] = dados['profissao']\n",
    "        if 'escolaridade' in dados: cadastro['escolaridade'] = dados['escolaridade']\n",
    "        base.append(cadastro)\n",
    "        with open('BaseDados.json', 'w') as arquivo:\n",
    "            arquivo.write(json.dumps(base, indent = 4))\n",
    "\n",
    "def visualisar_base():\n",
    "    with open('BaseDados.json', 'r') as arquivo:\n",
    "        base = json.loads(arquivo.read())\n",
    "        for i in base:\n",
    "            print(i)\n",
    "\n",
    "def buscar_usuario(todas_validas = False, **chaves):\n",
    "    with open('BaseDados.json', 'r') as arquivo:\n",
    "        dados = json.loads(arquivo.read())\n",
    "        resultados = []\n",
    "        todas = True\n",
    "        for i in dados:\n",
    "            for j in i:\n",
    "                for k in chaves:\n",
    "                    todas = True\n",
    "                    if i[j] == str(chaves[k]):\n",
    "                        if not todas_validas:\n",
    "                            resultados.append(i)\n",
    "                    else:\n",
    "                        todas = False\n",
    "                if todas_validas and todas:\n",
    "                    resultados.append(i)\n",
    "        return resultados if resultados else 'Não foi encontrado usuário com as informações dadas.'\n",
    "\n",
    "def modificar_usuario(**dados):\n",
    "    with open('BaseDados.json', 'r') as arquivo:\n",
    "        base = json.loads(arquivo.read())\n",
    "    for i in base:\n",
    "        if i['CPF'] == dados['CPF']:\n",
    "            if 'nome' in dados: i['nome'] = dados['nome']\n",
    "            if 'email' in dados: i['email'] = dados['email']\n",
    "            if 'nasc' in dados: i['nasc'] = dados['nasc']\n",
    "            if 'profissao' in dados: i['profissao'] = dados['profissao']\n",
    "            if 'escolaridade' in dados: i['escolaridade'] = dados['escolaridade']\n",
    "            with open('BaseDados.json', 'w') as arquivo:\n",
    "                arquivo.write(json.dumps(base, indent = 4))\n",
    "\n",
    "def insert_base_values():\n",
    "    CPF = input('Digite o CPF do usuario: ')\n",
    "    nome = input('Digite o nome do usuario: ')\n",
    "    email = input('Digite o email do usuario: ')\n",
    "    nasc = input('Digite a data de nascimento do usuario (aaaa-mm-dd): ')\n",
    "    profissao = input('Digite a profissão do usuario: ')\n",
    "    escolaridade = input('Digite a escolaridade do usuario: ')\n",
    "    return {\n",
    "        \"CPF\": CPF,\n",
    "        'nome': nome,\n",
    "        \"email\": email,\n",
    "        \"nasc\": nasc,\n",
    "        \"profissao\": profissao,\n",
    "        \"escolaridade\": escolaridade\n",
    "    }\n",
    "\n",
    "def menu_opcoes():\n",
    "    opcoes = ('0', '1', '2', '3', '4')\n",
    "    print('Digite a opção desejada:\\n'\n",
    "            '1. Visualizar base de dados.\\n'\n",
    "            '2. Cadastrar usuário.\\n'\n",
    "            '3. Buscar usuário.\\n'\n",
    "            '4. Modificar usuário.\\n'\n",
    "            '0. Encerrar.')\n",
    "    opcao = input()\n",
    "    return opcao if opcao in opcoes else menu_opcoes()\n",
    "\n",
    "def menu():\n",
    "    opcao = '_'\n",
    "    while opcao != '0':\n",
    "        opcao = menu_opcoes()\n",
    "        if opcao == '1':\n",
    "            visualisar_base()\n",
    "        elif opcao == '2':\n",
    "            cadastra_usuario(**insert_base_values())\n",
    "        elif opcao == '3':\n",
    "            print('Digite as informações que queira buscar, deixe em branco as outras.')\n",
    "            busca_info = insert_base_values()\n",
    "            vazios = []\n",
    "            for i in busca_info:\n",
    "                if busca_info[i].strip() == '':\n",
    "                    vazios.append(i)\n",
    "            for i in vazios:\n",
    "                del busca_info[i]\n",
    "            todas = input('A busca deve retornar apenas os usuários como TODAS as informações acima? (S/N)')\n",
    "            todas_validas = True if todas.upper().strip() == 'S' else False\n",
    "            print(buscar_usuario(todas_validas, **busca_info))\n",
    "        elif opcao == '4':\n",
    "            cpf = input('Digite o CPF do usuário que se deseja alterar os dados:')\n",
    "            print(f'As informações do usuário são: {buscar_usuario(CPF = cpf)}\\n')\n",
    "            print('Digite agora as novas informações: ')\n",
    "            modificar_usuario(**insert_base_values())\n",
    "    else:\n",
    "        print('Programa encerrado!')\n",
    "\n",
    "menu()\n",
    "    \n",
    "#print(menu_opcoes())\n",
    "#cadastra_usuario(CPF = '19425397', nome = 'Guilherme Tyszka', email = 'guilhermetyszka@hotmail.com', nasc = '1994-09-26', profissao = 'Professor', escolaridade = 'Pós')\n",
    "#buscar_usuario(todas_validas = False, CPF = '19425397', profissao = 'Estudante', nome = 'Guilherme')\n",
    "#visualisar_base()\n",
    "#modificar_usuario(CPF = '19425397', nasc = '1994-09-27')\n"
   ]
  },
  {
   "cell_type": "code",
   "execution_count": null,
   "metadata": {},
   "outputs": [],
   "source": []
  }
 ],
 "metadata": {
  "kernelspec": {
   "display_name": "Python 3.8.5 ('base')",
   "language": "python",
   "name": "python3"
  },
  "language_info": {
   "codemirror_mode": {
    "name": "ipython",
    "version": 3
   },
   "file_extension": ".py",
   "mimetype": "text/x-python",
   "name": "python",
   "nbconvert_exporter": "python",
   "pygments_lexer": "ipython3",
   "version": "3.8.5"
  },
  "orig_nbformat": 4,
  "vscode": {
   "interpreter": {
    "hash": "863676de2ba96198122476251e5e04c15f620561f725d6d9220728978e3e460b"
   }
  }
 },
 "nbformat": 4,
 "nbformat_minor": 2
}
