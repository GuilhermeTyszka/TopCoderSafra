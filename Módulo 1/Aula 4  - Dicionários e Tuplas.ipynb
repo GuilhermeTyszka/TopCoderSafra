{
 "cells": [
  {
   "cell_type": "markdown",
   "metadata": {},
   "source": [
    "# Estrutura de Dados\n",
    "Vocês já conhecem as variáveis e as listas, mas no Python vamos além disso!<br>\n",
    "Hoje aprenderemos novas maneiras de armazenar e esturar nossos dados.<br><br>\n",
    "<div>\n",
    "<img src=\"https://www.phylos.net/wp-content/uploads/2021/03/EstruturaDado.jpg\" width=\"500\"/>\n",
    "</div>"
   ]
  },
  {
   "cell_type": "markdown",
   "metadata": {},
   "source": [
    "## 📍 Tópicos de Hoje 📍\n",
    "<br>\n",
    "\n",
    "👶 [Tuplas: O Que São e Por Que Usar](#um)\n",
    "\n",
    "🚶‍ [Dicionários: Muito Além do Livro que Você Usou na Escola](#dois)\n",
    "\n",
    "🏃 [Estrutura de Dados Aplicadas às Funções](#tres)\n",
    "    \n",
    "🏆 [Exercícios](#quatro)\n",
    "\n",
    "🚀 [O Futuro...](#cinco)"
   ]
  },
  {
   "cell_type": "markdown",
   "metadata": {},
   "source": [
    "## 📜  Tuplas: O Que São e Por Que Usar 📜 <a class=\"anchor\" id=\"um\"></a>\n",
    "<br>\n",
    "\n",
    "<div align=\"justify\">\n",
    "&emsp; Tuplas podem ser pensadas como listas mas com algumas restrições: não podemos alterar uma tupla nem em ordem, nem conteúdo. Por que deveriamos usa-las então? Velocidade e organização de código. Um programador ao ver uma tupla sabe que seu conteúdo não pode ser alterado indiscriminadamente, além disso, a capacidade de alteração numa lista exige algoritmos mais complexos e lentos, então trabalhar com tuplas nos permite maior desempenho.<br>\n",
    "&emsp; As tuplas são declaradas entre parênteses, possuem algumas funções nativas semelhantes as listas, como len() e type(), e também são consultadas da mesma maneira com os colchetes. Além disso é importante notar que tuplas aceitam dados mistos dentro de sí.\n",
    "</div>"
   ]
  },
  {
   "cell_type": "code",
   "execution_count": 2,
   "metadata": {},
   "outputs": [
    {
     "name": "stdout",
     "output_type": "stream",
     "text": [
      "Pera\n",
      "5\n",
      "<class 'tuple'>\n"
     ]
    }
   ],
   "source": [
    "nossaPrimeiraTupla = (\"Manga\", \"Pera\", 7, True, 0.34)\n",
    "print(nossaPrimeiraTupla[1])\n",
    "print(len(nossaPrimeiraTupla))\n",
    "print(type(nossaPrimeiraTupla))"
   ]
  },
  {
   "cell_type": "markdown",
   "metadata": {},
   "source": [
    "---\n",
    "<div align=\"justify\">\n",
    "&emsp; Para alterarmos uma tupla precisamos fazer um <i>cast</i> para listas, alterar a lista, e retornar para uma tupla.\n",
    "</div>"
   ]
  },
  {
   "cell_type": "code",
   "execution_count": 3,
   "metadata": {},
   "outputs": [
    {
     "name": "stdout",
     "output_type": "stream",
     "text": [
      "Tupla antes de alterar: ('Manga', 'Pera', 7, True, 0.34)\n",
      "Tupla depois de alterar: ('Manga', 'Pera', 7, True, 0.34, 'AlteracaoNaTupla')\n"
     ]
    }
   ],
   "source": [
    "print(f\"Tupla antes de alterar: {nossaPrimeiraTupla}\")\n",
    "\n",
    "listaAuxiliar = list(nossaPrimeiraTupla)\n",
    "listaAuxiliar.append(\"AlteracaoNaTupla\")\n",
    "nossaPrimeiraTupla = tuple(listaAuxiliar)\n",
    "\n",
    "print(f\"Tupla depois de alterar: {nossaPrimeiraTupla}\")"
   ]
  },
  {
   "cell_type": "markdown",
   "metadata": {},
   "source": [
    "---\n",
    "<div align=\"justify\">\n",
    "&emsp; Tuplas podem ser desempacotadas, isso é, desmembrar seus valores para variaveis individuais, ou mesmo para as listas usando <b>*</b>.\n",
    "</div>"
   ]
  },
  {
   "cell_type": "code",
   "execution_count": null,
   "metadata": {},
   "outputs": [],
   "source": [
    "x, y = 5, 10\n",
    "print(x)\n",
    "print(y)"
   ]
  },
  {
   "cell_type": "code",
   "execution_count": 8,
   "metadata": {},
   "outputs": [
    {
     "name": "stdout",
     "output_type": "stream",
     "text": [
      "Manga\n",
      "Pera\n",
      "7\n",
      "[True, 0.34]\n",
      "Manga\n"
     ]
    }
   ],
   "source": [
    "nossaPrimeiraTupla = (\"Manga\", \"Pera\", 7, True, 0.34)\n",
    "fruta1, fruta2, restoTupla, *vddFalso = nossaPrimeiraTupla\n",
    "print(fruta1)\n",
    "print(fruta2)\n",
    "print(restoTupla) # Note que restoTupla é uma lista com tudo que sobrou do desempacotamento\n",
    "print(vddFalso) \n",
    "print(nossaPrimeiraTupla[0]) \n"
   ]
  },
  {
   "cell_type": "markdown",
   "metadata": {},
   "source": [
    "---\n",
    "<div align=\"justify\">\n",
    "&emsp; Tuplas podem ser percorridas em loop igualmente as listas, além disso podemos concatenar tuplas com o + e multiplicar elas por inteiros usando *.\n",
    "</div>"
   ]
  },
  {
   "cell_type": "code",
   "execution_count": 4,
   "metadata": {},
   "outputs": [
    {
     "name": "stdout",
     "output_type": "stream",
     "text": [
      "Manga\n",
      "Pera\n",
      "7\n",
      "True\n",
      "0.34\n",
      "\n",
      "Tupla concatenada: ('Manga', 'Pera', 7, True, 0.34, 'Brian', 10)\n",
      "Tupla dobrada: ('Manga', 'Pera', 7, True, 0.34, 'Brian', 10, 'Manga', 'Pera', 7, True, 0.34, 'Brian', 10)\n"
     ]
    }
   ],
   "source": [
    "nossaPrimeiraTupla = (\"Manga\", \"Pera\", 7, True, 0.34)\n",
    "for item in nossaPrimeiraTupla:\n",
    "    print(item)\n",
    "print()\n",
    "    \n",
    "tuplaDois = (\"Brian\", 10)\n",
    "tuplaTres = nossaPrimeiraTupla + tuplaDois\n",
    "print(f\"Tupla concatenada: {tuplaTres}\")\n",
    "\n",
    "tuplaTres = tuplaTres * 2\n",
    "print(f\"Tupla dobrada: {tuplaTres}\")"
   ]
  },
  {
   "cell_type": "markdown",
   "metadata": {},
   "source": [
    "---\n",
    "<div align=\"justify\">\n",
    "&emsp; Por fim tuplas também possuem os métodos count() e index() que, respectivamente, contam quantos dados iguais ao que passarmos a tupla possui, e em qual <i>index</i> está o primeiro dado igual ao que passamos.\n",
    "</div>"
   ]
  },
  {
   "cell_type": "code",
   "execution_count": null,
   "metadata": {},
   "outputs": [],
   "source": [
    "repeticoesManga = tuplaTres.count(\"Manga\")\n",
    "print(f\"Manga aparece {repeticoesManga} vezes na tupla\")\n",
    "\n",
    "indexPrimeiroTrue = tuplaTres.index(True)\n",
    "print(f\"O primeiro True está na index \\\"{indexPrimeiroTrue}\\\"\")"
   ]
  },
  {
   "cell_type": "markdown",
   "metadata": {},
   "source": [
    "## 📚 Dicionários: Muito Além do Livro que Você Usou na Escola 📚 <a class=\"anchor\" id=\"dois\"></a>\n",
    "<br>\n",
    "<div align=\"justify\">\n",
    "&emsp; Dicionários também podem ser pensados analogamente a listas, mas não pensaremos mais no conceito de <i>index</i> e sim em palavras-chave. Assim como um dicionário real possui palavras e suas definições, um dicionário em Python também! Entretanto devemos nos atentar que um dicionário não pode ter duas definições para uma mesma palavra (mas pode ter uma definição única definida por uma lista!)<br>\n",
    "&emsp; Dicionarios são declarados entre chaves, e acessados com colchetes (usando as palavras-chave e não as <i>indexes</i>) ou com a função get() usando a palavra-chave como parâmetro. Além disso com a função keys() podemos listar todas as palavras-chave de um dado dicionário.\n",
    "</div>"
   ]
  },
  {
   "cell_type": "code",
   "execution_count": 1,
   "metadata": {},
   "outputs": [
    {
     "name": "stdout",
     "output_type": "stream",
     "text": [
      "Dicionario: {'nome': 'Lucas', 'idade': 32, 'profissao': 'Empresario', 'filhos': ['Ana', 'Claudio', 'Luiza']} \n",
      "\n",
      "Chaves: dict_keys(['nome', 'idade', 'profissao', 'filhos']) \n",
      "\n",
      "Nome: Lucas \n",
      "\n",
      "Valores: dict_values(['Lucas', 32, 'Empresario', ['Ana', 'Claudio', 'Luiza']]) \n",
      "\n",
      "Itens: dict_items([('nome', 'Lucas'), ('idade', 32), ('profissao', 'Empresario'), ('filhos', ['Ana', 'Claudio', 'Luiza'])])\n"
     ]
    }
   ],
   "source": [
    "pessoa = {\n",
    "    \"nome\": \"Lucas\",\n",
    "    \"idade\": 32,\n",
    "    \"profissao\": \"Empresario\",\n",
    "    \"filhos\": [\"Ana\", \"Claudio\", \"Luiza\"]\n",
    "}\n",
    "\n",
    "print(\"Dicionario:\",pessoa,\"\\n\")\n",
    "print(\"Chaves:\",pessoa.keys(),\"\\n\")\n",
    "print(\"Nome:\",pessoa[\"nome\"],\"\\n\")\n",
    "\n",
    "# values() retorna os valores armezenados\n",
    "print(\"Valores:\",pessoa.values(),\"\\n\")\n",
    "# items() retorna uma lista de tuplas contendo palavra chave e valor associado\n",
    "print(\"Itens:\",pessoa.items())"
   ]
  },
  {
   "cell_type": "code",
   "execution_count": 2,
   "metadata": {},
   "outputs": [
    {
     "data": {
      "text/plain": [
       "'idade'"
      ]
     },
     "execution_count": 2,
     "metadata": {},
     "output_type": "execute_result"
    }
   ],
   "source": [
    "list(pessoa.keys())[1]"
   ]
  },
  {
   "cell_type": "markdown",
   "metadata": {},
   "source": [
    "---\n",
    "<div align=\"justify\">\n",
    "&emsp; Podemos adicionar itens de um dicionário usando <b>nomeDic[\"novaPalavraChave\"] = valor</b>, podemos atualizar da mesma maneira mas usando uma palavra-chave já existente, ou mesmo usar o método update() com o parâmetro <b>{\"palavraChave\": novoValor}</b>. Já para apagar itens temos várias maneiras: podemos usar o método pop() com a palavra-chave a ser deletada como parâmetro, ou o método popitem() para deletar o último item, ou mesmo a <b>del dicionario[\"chaveParaDeletar\"]</b>, por fim temos o método clear() que limpa o dicionário todo.<br>\n",
    "</div>"
   ]
  },
  {
   "cell_type": "code",
   "execution_count": 3,
   "metadata": {},
   "outputs": [
    {
     "name": "stdout",
     "output_type": "stream",
     "text": [
      "Dicionario inicialmente: {'nome': 'Lucas', 'idade': 32, 'profissao': 'Empresario', 'filhos': ['Ana', 'Claudio', 'Luiza']} \n",
      "\n",
      "Dicionario incrementado: {'nome': 'Lucas', 'idade': 32, 'profissao': 'Empresario', 'filhos': ['Ana', 'Claudio', 'Luiza'], 'Nacionalidade': 'Brasileiro'} \n",
      "\n",
      "Dicionario atualizado: {'nome': 'Pedro', 'idade': 35, 'profissao': 'Empresario', 'filhos': ['Ana', 'Claudio', 'Luiza'], 'Nacionalidade': 'Chileno', 'Cachorro': 'Billy'} \n",
      "\n",
      "Dicionario sem nome: {'idade': 35, 'profissao': 'Empresario', 'filhos': ['Ana', 'Claudio', 'Luiza'], 'Nacionalidade': 'Chileno', 'Cachorro': 'Billy'} \n",
      "\n",
      "Dicionario ultima chave: {'idade': 35, 'profissao': 'Empresario', 'filhos': ['Ana', 'Claudio', 'Luiza'], 'Nacionalidade': 'Chileno'} \n",
      "\n",
      "Dicionario sem profissao: {'idade': 35, 'filhos': ['Ana', 'Claudio', 'Luiza'], 'Nacionalidade': 'Chileno'} \n",
      "\n",
      "Dicionario vazio: {} \n",
      "\n"
     ]
    }
   ],
   "source": [
    "print(\"Dicionario inicialmente:\",pessoa,\"\\n\")\n",
    "\n",
    "# adicionar palavra chave\n",
    "pessoa[\"Nacionalidade\"] = \"Brasileiro\"\n",
    "\n",
    "print(\"Dicionario incrementado:\",pessoa,\"\\n\")\n",
    "\n",
    "# alterar palavras chaves\n",
    "pessoa[\"nome\"] = \"Pedro\"\n",
    "pessoa.update({\"idade\": 35, \"Nacionalidade\": \"Chileno\", \"Cachorro\": \"Billy\"})\n",
    "\n",
    "print(\"Dicionario atualizado:\",pessoa,\"\\n\")\n",
    "\n",
    "# apagar palavras chaves\n",
    "pessoa.pop(\"nome\")\n",
    "print(\"Dicionario sem nome:\",pessoa,\"\\n\")\n",
    "\n",
    "pessoa.popitem()\n",
    "print(\"Dicionario ultima chave:\",pessoa,\"\\n\")\n",
    "\n",
    "del pessoa[\"profissao\"]\n",
    "print(\"Dicionario sem profissao:\",pessoa,\"\\n\")\n",
    "\n",
    "pessoa.clear()\n",
    "print(\"Dicionario vazio:\",pessoa,\"\\n\")"
   ]
  },
  {
   "cell_type": "markdown",
   "metadata": {},
   "source": [
    "---\n",
    "<div align=\"justify\">\n",
    "&emsp; Dicionário podem ser usados em <i>loops</i> normalmente também, apenas uma atenção ao uso juntamente do  método items() que pode ser interessante.<br>\n",
    "</div>"
   ]
  },
  {
   "cell_type": "code",
   "execution_count": 4,
   "metadata": {},
   "outputs": [
    {
     "name": "stdout",
     "output_type": "stream",
     "text": [
      "Lucas\n",
      "32\n",
      "Empresario\n",
      "Lucas\n",
      "32\n",
      "Empresario\n",
      "\n",
      "A chave 'nome' possui valor: 'Lucas'\n",
      "A chave 'idade' possui valor: '32'\n",
      "A chave 'profissao' possui valor: 'Empresario'\n"
     ]
    }
   ],
   "source": [
    "pessoa = {\n",
    "    \"nome\": \"Lucas\",\n",
    "    \"idade\": 32,\n",
    "    \"profissao\": \"Empresario\"\n",
    "}\n",
    "\n",
    "for dado in pessoa:\n",
    "    print(pessoa[dado])\n",
    "    \n",
    "for dado in pessoa.values():\n",
    "    print(dado)\n",
    "    \n",
    "# lista = [1, 2, 3]\n",
    "# for i in range(len(lista)):\n",
    "#     print(lista[i])\n",
    "\n",
    "\n",
    "print()\n",
    "    \n",
    "for chave, dado in pessoa.items():\n",
    "    print(f\"A chave \\'{chave}\\' possui valor: \\'{dado}\\'\")"
   ]
  },
  {
   "cell_type": "markdown",
   "metadata": {},
   "source": [
    "---\n",
    "<div align=\"justify\">\n",
    "&emsp; Assim como listas podem armazenar listas, dicionários podem armazenar dicionários, formando dicionários de mais de uma dimensão. Veja o exemplo:<br>\n",
    "</div>"
   ]
  },
  {
   "cell_type": "code",
   "execution_count": 6,
   "metadata": {},
   "outputs": [
    {
     "name": "stdout",
     "output_type": "stream",
     "text": [
      "Primeiro filho: 2004\n"
     ]
    }
   ],
   "source": [
    "filhos = {\n",
    "  \"filho1\" : {\n",
    "    \"nome\" : \"Gabriel\",\n",
    "    \"ano\" : 2004\n",
    "  },\n",
    "  \"filho2\" : {\n",
    "    \"nome\" : \"Pedro\",\n",
    "    \"ano\" : 2007\n",
    "  },\n",
    "  \"filho3\" : {\n",
    "    \"nome\" : \"Gustavo\",\n",
    "    \"ano\" : 2011\n",
    "  }\n",
    "}\n",
    "\n",
    "print(\"Primeiro filho:\", filhos[\"filho1\"][\"ano\"])"
   ]
  },
  {
   "cell_type": "code",
   "execution_count": 7,
   "metadata": {},
   "outputs": [
    {
     "name": "stdout",
     "output_type": "stream",
     "text": [
      "Dado: nome - Gabriel\n",
      "Dado: ano - 2004\n",
      "Dado: nome - Pedro\n",
      "Dado: ano - 2007\n",
      "Dado: nome - Gustavo\n",
      "Dado: ano - 2011\n"
     ]
    }
   ],
   "source": [
    "for filho in filhos.values():\n",
    "    for chave, dado in filho.items(): \n",
    "        print(f\"Dado: {chave} - {dado}\")"
   ]
  },
  {
   "cell_type": "markdown",
   "metadata": {},
   "source": [
    "---\n",
    "<div align=\"justify\">\n",
    "&emsp; No contexto de dicionários o comando <b>in</b> tem muita força. Imagine que você quer adicionar valores em uma chave mas não sabe sequer se ela existe naquele contexto, como poderiamos fazer?<br>\n",
    "</div>"
   ]
  },
  {
   "cell_type": "code",
   "execution_count": 8,
   "metadata": {},
   "outputs": [
    {
     "name": "stdout",
     "output_type": "stream",
     "text": [
      "{'nome': 'Brian', 'escola': 'USP', 'materias': ['Calculo', 'Mecanica', 'Algebra Linear', 'Intro. Comp.']}\n"
     ]
    }
   ],
   "source": [
    "estudante = {\n",
    "    'nome': \"Brian\",\n",
    "    'escola': \"USP\"\n",
    "}\n",
    "\n",
    "materias = [\"Calculo\", \"Mecanica\", \"Algebra Linear\", \"Intro. Comp.\"]\n",
    "\n",
    "for materia in materias:\n",
    "    if 'materias' in estudante:\n",
    "        estudante[\"materias\"].append(materia)\n",
    "    else:\n",
    "        estudante[\"materias\"] = [materia]\n",
    "        \n",
    "print(estudante)"
   ]
  },
  {
   "cell_type": "markdown",
   "metadata": {},
   "source": [
    "## 🎯 Exercícios 🎯 <a class=\"anchor\" id=\"quatro\"></a>\n",
    "\n",
    "**1)** Escreva uma função que conta a quantidade de vogais em um texto e armazena tal quantidade em um dicionário, onde a chave é a vogal considerada."
   ]
  },
  {
   "cell_type": "code",
   "execution_count": 14,
   "metadata": {},
   "outputs": [
    {
     "name": "stdout",
     "output_type": "stream",
     "text": [
      "{'A': 3, 'E': 2, 'I': 2, 'O': 3, 'U': 1}\n"
     ]
    }
   ],
   "source": [
    "def conta_vogais(texto) -> list:\n",
    "    '''\n",
    "    Entrada: Uma string qualquer \\n\n",
    "    Saída: Um dicionário com a quantidade de cada vogal'''\n",
    "    qte_vogal = {}\n",
    "    vogais = 'AEIOU'\n",
    "    texto = texto.upper()\n",
    "    for i in vogais:\n",
    "        qte_vogal[i] = texto.count(i)\n",
    "    return qte_vogal\n",
    "\n",
    "\n",
    "texto = input('Digite o texto: ')\n",
    "print(conta_vogais(texto))\n",
    "\n"
   ]
  },
  {
   "cell_type": "markdown",
   "metadata": {},
   "source": [
    "**2)** Escreva um programa que lê duas notas de vários alunos e armazena tais notas em um dicionário, onde a chave é o nome\n",
    "do aluno. A entrada de dados deve terminar quando for lida uma string vazia como nome. Escreva uma função que retorna a média do aluno, dado seu nome. "
   ]
  },
  {
   "cell_type": "code",
   "execution_count": 27,
   "metadata": {},
   "outputs": [
    {
     "name": "stdout",
     "output_type": "stream",
     "text": [
      "As médias são: {'Gabi': 8.5, 'Gui': 5.5}\n"
     ]
    }
   ],
   "source": [
    "def leitura_notas() -> dict:\n",
    "    nome = '*'\n",
    "    notas_alunos = {}\n",
    "    print('Para encerrar a digitação dos nomes insira um nome vazio.')\n",
    "    nome = input('Digite o nome do(a) aluno(a): ')\n",
    "    while nome != '':\n",
    "        nota1 = float(input(f'Digite a primeira nota do(a) {nome}: '))\n",
    "        nota2 = float(input(f'Digite a segunda nota do(a) {nome}: '))\n",
    "        notas_alunos[nome] = {\"nota1\": nota1, \"nota2\": nota2}\n",
    "        nome = input('Digite o nome de outro aluno: ')\n",
    "    return notas_alunos\n",
    "\n",
    "def calcula_media(notas):\n",
    "    media_alunos = {}\n",
    "    for i in notas.keys():\n",
    "        media_alunos[i] = (notas[i][\"nota1\"] + notas[i][\"nota2\"]) / 2\n",
    "    return media_alunos\n",
    "\n",
    "notas = leitura_notas()\n",
    "media_alunos = calcula_media(notas)\n",
    "print(f'As médias são: {media_alunos}')\n",
    "    \n",
    "    \n"
   ]
  },
  {
   "cell_type": "markdown",
   "metadata": {},
   "source": [
    "**3)** Uma pista de Kart permite 10 voltas para cada um de 6 corredores. Escreva um programa que leia todos os tempos\n",
    "em segundos e os guarde em um dicionário, onde a chave é o nome do corredor. Ao final diga de quem foi a melhor volta da\n",
    "prova e em que volta; e ainda a classificação final em ordem. O campeão é o que tem a menor média de\n",
    "tempos. (Para facilitar use listas no código e não trabalhe com _input_).\n",
    "\n",
    "Dica: Para ordenar uma lista bidimensional usem o paramêtro \"key= lambda x: x[<i>index referência</i>]\" no método de sort."
   ]
  },
  {
   "cell_type": "code",
   "execution_count": null,
   "metadata": {},
   "outputs": [],
   "source": []
  },
  {
   "cell_type": "markdown",
   "metadata": {},
   "source": [
    "**4)** Escreva um programa para armazenar uma agenda de telefones em um dicionário. Cada pessoa pode ter um ou mais telefones e a chave do dicionário é o nome da pessoa. Seu programa deve ter as seguintes funções:\n",
    "- incluirNovoNome: essa função acrescenta um novo nome na agenda, com um ou mais telefones. Ela deve receber como argumentos o nome e os telefones.\n",
    "- incluirTelefone: essa função acrescenta um telefone em um nome existente na agenda. Caso o nome não exista na agenda, você deve perguntar se a pessoa deseja incluí-lo. Caso a resposta seja afirmativa, use a função anterior para incluir o novo nome.\n",
    "- excluirTelefone: essa função exclui um telefone de uma pessoa que já está na agenda. Se a pessoa tiver apenas um telefone, ela deve ser excluída da agenda.\n",
    "- excluirNome: essa função exclui uma pessoa da agenda.\n",
    "- consultarTelefone – essa função retorna os telefones de uma pessoa na agenda. "
   ]
  },
  {
   "cell_type": "code",
   "execution_count": null,
   "metadata": {},
   "outputs": [],
   "source": []
  },
  {
   "cell_type": "markdown",
   "metadata": {},
   "source": [
    "## 🌌 O futuro... 🌌 <a class=\"anchor\" id=\"cinco\"></a>\n",
    "\n",
    "&emsp; Vimos hoje as últimas formas nativas de se estruturar dados com Python, mas claro que esse conceito vai muuuito além do que vimos! Temos listas ligadas, _hashmaps_, matrizes esparsas, grafos, árvores binárias e diversas outras maneiras de estruturar nossos dados de forma que a visualização e processamento seja a mais eficiênte para o problema que estivermos atacando. Normalmente o conhecimento de estrutura de dados anda de mão dadas com os algoritimos de percorrimento dessas estruturas (na aula de hoje utilizamos os _fors_ para essa tarefa). <br>\n",
    "&emsp; Caso se interessem pelo conteúdo e tenham curiosidade/necessidade de conhecer mais a respeito me perguntem pelo meio que se sentirem mais confortáveis! 🚀 \n",
    "\n",
    "# Acabooou! 🎉 Agradeço pela atenção de todos! 😄\n",
    "## Qualquer dúvida não hesitem em me chamar. 👩‍💻"
   ]
  }
 ],
 "metadata": {
  "interpreter": {
   "hash": "863676de2ba96198122476251e5e04c15f620561f725d6d9220728978e3e460b"
  },
  "kernelspec": {
   "display_name": "Python 3.8.5 ('base')",
   "language": "python",
   "name": "python3"
  },
  "language_info": {
   "codemirror_mode": {
    "name": "ipython",
    "version": 3
   },
   "file_extension": ".py",
   "mimetype": "text/x-python",
   "name": "python",
   "nbconvert_exporter": "python",
   "pygments_lexer": "ipython3",
   "version": "3.8.5"
  }
 },
 "nbformat": 4,
 "nbformat_minor": 4
}
