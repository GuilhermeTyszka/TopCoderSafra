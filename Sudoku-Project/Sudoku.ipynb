{
 "cells": [
  {
   "cell_type": "code",
   "execution_count": 2,
   "metadata": {},
   "outputs": [],
   "source": [
    "import numpy as np"
   ]
  },
  {
   "cell_type": "code",
   "execution_count": 3,
   "metadata": {},
   "outputs": [],
   "source": [
    "game_solution = np.array([[5, 3, 4, 6, 7, 8, 9, 1, 2], \n",
    "                         [6, 7, 2, 1, 9, 5, 3, 4, 8], \n",
    "                         [1, 9, 8, 3, 4, 2, 5, 6, 7], \n",
    "                         [8, 5, 9, 7, 6, 1, 4, 2, 3], \n",
    "                         [4, 2, 6, 8, 5, 3, 7, 9, 1], \n",
    "                         [7, 1, 3, 9, 2, 4, 8, 5, 6], \n",
    "                         [9, 6, 1, 5, 3, 7, 2, 8, 4], \n",
    "                         [2, 8, 7, 4, 1, 9, 6, 3, 5], \n",
    "                         [3, 4, 5, 2, 8, 6, 1, 7, 9]])"
   ]
  },
  {
   "cell_type": "code",
   "execution_count": 4,
   "metadata": {},
   "outputs": [],
   "source": [
    "game = np.array([[5, 3, 0, 0, 7, 0, 0, 0, 0], \n",
    "                [6, 0, 0, 1, 9, 5, 0, 0, 0], \n",
    "                [0, 9, 8, 0, 0, 0, 0, 6, 0], \n",
    "                [8, 0, 0, 0, 6, 0, 0, 0, 3], \n",
    "                [4, 0, 0, 8, 0, 3, 0, 0, 1],\n",
    "                [7, 0, 0, 0, 2, 0, 0, 0, 6], \n",
    "                [0, 6, 0, 0, 0, 0, 2, 8, 0], \n",
    "                [0, 0, 0, 4, 1, 9, 0, 0, 5], \n",
    "                [0, 0, 0, 0, 8, 0, 0, 7, 9]])"
   ]
  },
  {
   "cell_type": "code",
   "execution_count": 3,
   "metadata": {},
   "outputs": [],
   "source": [
    "game = [[5, 3, 0, 0, 7, 0, 0, 0, 0], \n",
    "                [6, 0, 0, 1, 9, 5, 0, 0, 0], \n",
    "                [0, 9, 8, 0, 0, 0, 0, 6, 0], \n",
    "                [8, 0, 0, 0, 6, 0, 0, 0, 3], \n",
    "                [4, 0, 0, 8, 0, 3, 0, 0, 1],\n",
    "                [7, 0, 0, 0, 2, 0, 0, 0, 6], \n",
    "                [0, 6, 0, 0, 0, 0, 2, 8, 0], \n",
    "                [0, 0, 0, 4, 1, 9, 0, 0, 5], \n",
    "                [0, 0, 0, 0, 8, 0, 0, 7, 9]]"
   ]
  },
  {
   "cell_type": "code",
   "execution_count": 6,
   "metadata": {},
   "outputs": [
    {
     "data": {
      "text/plain": [
       "5"
      ]
     },
     "execution_count": 6,
     "metadata": {},
     "output_type": "execute_result"
    }
   ],
   "source": [
    "game[0][0]"
   ]
  },
  {
   "cell_type": "code",
   "execution_count": 27,
   "metadata": {},
   "outputs": [
    {
     "name": "stdout",
     "output_type": "stream",
     "text": [
      "{0, 1, 5, 7, 9}\n"
     ]
    }
   ],
   "source": [
    "block_1 = list((game[0][0], game[0][1], game[0][2], game[1][0], game[1][1], game[1][2], game[2][0], game[2][1], game[2][2])).remove(0)\n",
    "block_2 = [game[0][3], game[0][4], game[0][5], game[1][3], game[1][4], game[1][5], game[2][3], game[2][4], game[2][5]]\n",
    "block_3 = list((game[0][6], game[0][7], game[0][8], game[1][6], game[1][7], game[1][8], game[2][6], game[2][7], game[2][8])).remove(0)\n",
    "block_4 = list((game[3][0], game[3][1], game[3][2], game[4][0], game[4][1], game[4][2], game[5][0], game[5][1], game[5][2])).remove(0)\n",
    "block_5 = list((game[3][3], game[3][4], game[3][5], game[4][3], game[4][4], game[4][5], game[5][3], game[5][4], game[5][5])).remove(0)\n",
    "block_6 = list((game[3][6], game[3][7], game[3][8], game[4][6], game[4][7], game[4][8], game[5][6], game[5][7], game[5][8])).remove(0)\n",
    "block_7 = list((game[6][0], game[6][1], game[6][2], game[7][0], game[7][1], game[7][2], game[8][0], game[8][1], game[8][2])).remove(0)\n",
    "block_8 = list((game[6][3], game[6][4], game[6][5], game[7][3], game[7][4], game[7][5], game[8][3], game[8][4], game[8][5])).remove(0)\n",
    "block_9 = list((game[6][6], game[6][7], game[6][8], game[7][6], game[7][7], game[7][8], game[8][6], game[8][7], game[8][8])).remove(0)\n",
    "\n",
    "print(set(block_2))"
   ]
  },
  {
   "cell_type": "code",
   "execution_count": 18,
   "metadata": {},
   "outputs": [
    {
     "name": "stdout",
     "output_type": "stream",
     "text": [
      "{'00': [5], '01': [3], '02': [1, 2, 4, 6, 9], '03': [2, 6, 9], '04': [7], '05': [1, 2, 4, 6, 8], '06': [1, 4, 6, 8, 9], '07': [1, 2, 4, 9], '08': [2, 4, 8], '10': [6], '11': [2, 4, 7, 8], '12': [2, 3, 4, 7], '13': [1], '14': [9], '15': [5], '16': [3, 4, 7, 8], '17': [2, 3, 4], '18': [2, 4, 7, 8], '20': [1, 2, 3], '21': [9], '22': [8], '23': [2, 3, 5, 7], '24': [3, 4, 5], '25': [1, 2, 4, 7], '26': [1, 3, 4, 5, 7], '27': [6], '28': [2, 4, 7], '30': [8], '31': [1, 2, 4, 5, 7], '32': [1, 2, 4, 5, 7, 9], '33': [2, 5, 7, 9], '34': [6], '35': [1, 2, 4, 7], '36': [1, 4, 5, 7, 9], '37': [1, 2, 4, 5, 9], '38': [3], '40': [4], '41': [2, 5, 7], '42': [2, 5, 6, 7, 9], '43': [8], '44': [5], '45': [3], '46': [5, 6, 7, 9], '47': [2, 5, 9], '48': [1], '50': [7], '51': [1, 4, 5, 8], '52': [1, 3, 4, 5, 9], '53': [3, 5, 9], '54': [2], '55': [1, 4, 8], '56': [1, 3, 4, 5, 8, 9], '57': [1, 3, 4, 5, 9], '58': [6], '60': [1, 3, 9], '61': [6], '62': [1, 3, 4, 5, 7, 9], '63': [3, 5, 7, 9], '64': [3, 4, 5], '65': [1, 4, 7], '66': [2], '67': [8], '68': [4, 7], '70': [2, 3], '71': [2, 7, 8], '72': [2, 3, 6, 7], '73': [4], '74': [1], '75': [9], '76': [3, 6, 7, 8], '77': [2, 3], '78': [5], '80': [1, 2, 3], '81': [1, 2, 4, 5], '82': [1, 2, 3, 4, 5, 6], '83': [2, 3, 5, 6], '84': [8], '85': [1, 2, 4, 6], '86': [1, 3, 4, 5, 6], '87': [7], '88': [9]}\n"
     ]
    }
   ],
   "source": [
    "def cria_dict_possiveis_valores(game: list) -> dict:\n",
    "    possiveis = {}\n",
    "    for linha in range(9):\n",
    "        for coluna in range(9):\n",
    "            if game[linha][coluna] != 0: \n",
    "                valores = [game[linha][coluna]] \n",
    "            else:\n",
    "                valores = list(range(1,10))\n",
    "                for elemento in game[linha]:\n",
    "                    if elemento in valores: valores.remove(elemento)\n",
    "                for coluna_index in range(9):\n",
    "                    if game[coluna_index][coluna] in valores: valores.remove(game[coluna_index][coluna])\n",
    "            possiveis[f'{linha}{coluna}'] = valores\n",
    "    \n",
    "        \n",
    "\n",
    "    return possiveis\n",
    "\n",
    "        \n",
    "print(cria_dict_possiveis_valores(game))\n",
    "#print(list(enumerate(cria_dict_possiveis_valores(game))))\n",
    "\n"
   ]
  },
  {
   "cell_type": "code",
   "execution_count": 13,
   "metadata": {},
   "outputs": [
    {
     "data": {
      "text/plain": [
       "[6, 0, 0, 1, 9, 5, 0, 0, 0]"
      ]
     },
     "execution_count": 13,
     "metadata": {},
     "output_type": "execute_result"
    }
   ],
   "source": [
    "def resolvedor(game, possiveis: dict, game1 = game, finish = False) -> dict:\n",
    "    if finish:\n",
    "        for j in possiveis:\n",
    "            if len(possiveis[j]) != 1:\n",
    "                break\n",
    "            finish = True\n",
    "            return possiveis\n",
    "    else:\n",
    "        i = 0\n",
    "        while list(enumerate(possiveis))[i] and i < 80:\n",
    "            for j in possiveis:\n",
    "                if len(possiveis[j]) == 0:\n",
    "                    possiveis[i].pop()\n",
    "                    game2 = game1.copy()\n",
    "                    break\n",
    "                elif len(possiveis[j]) > 1:\n",
    "                    game1[int(str(i)[0])][int(str(i)[1])] = possiveis[j][-1]\n",
    "                    possiveis = cria_dict_possiveis_valores(game1) \n",
    "                    return resolvedor(game1, possiveis, finish = False)\n",
    "            i += 1\n",
    "            return resolvedor(game1, possiveis, finish = True)"
   ]
  },
  {
   "cell_type": "code",
   "execution_count": 27,
   "metadata": {},
   "outputs": [
    {
     "name": "stdout",
     "output_type": "stream",
     "text": [
      "[11, 22]\n"
     ]
    }
   ],
   "source": [
    "lista = [11, 22, 33]\n",
    "\n",
    "lista.remove(33)\n",
    "print(lista)"
   ]
  },
  {
   "cell_type": "code",
   "execution_count": null,
   "metadata": {},
   "outputs": [],
   "source": []
  }
 ],
 "metadata": {
  "interpreter": {
   "hash": "863676de2ba96198122476251e5e04c15f620561f725d6d9220728978e3e460b"
  },
  "kernelspec": {
   "display_name": "Python 3.8.5 ('base')",
   "language": "python",
   "name": "python3"
  },
  "language_info": {
   "codemirror_mode": {
    "name": "ipython",
    "version": 3
   },
   "file_extension": ".py",
   "mimetype": "text/x-python",
   "name": "python",
   "nbconvert_exporter": "python",
   "pygments_lexer": "ipython3",
   "version": "3.8.5"
  }
 },
 "nbformat": 4,
 "nbformat_minor": 4
}
